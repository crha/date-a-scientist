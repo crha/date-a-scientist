{
 "cells": [
  {
   "cell_type": "code",
   "execution_count": 88,
   "metadata": {},
   "outputs": [
    {
     "name": "stderr",
     "output_type": "stream",
     "text": [
      "C:\\Users\\chris\\Anaconda3\\lib\\site-packages\\ipykernel_launcher.py:28: SettingWithCopyWarning: \n",
      "A value is trying to be set on a copy of a slice from a DataFrame.\n",
      "Try using .loc[row_indexer,col_indexer] = value instead\n",
      "\n",
      "See the caveats in the documentation: http://pandas.pydata.org/pandas-docs/stable/indexing.html#indexing-view-versus-copy\n",
      "C:\\Users\\chris\\Anaconda3\\lib\\site-packages\\ipykernel_launcher.py:29: SettingWithCopyWarning: \n",
      "A value is trying to be set on a copy of a slice from a DataFrame.\n",
      "Try using .loc[row_indexer,col_indexer] = value instead\n",
      "\n",
      "See the caveats in the documentation: http://pandas.pydata.org/pandas-docs/stable/indexing.html#indexing-view-versus-copy\n",
      "C:\\Users\\chris\\Anaconda3\\lib\\site-packages\\ipykernel_launcher.py:30: SettingWithCopyWarning: \n",
      "A value is trying to be set on a copy of a slice from a DataFrame.\n",
      "Try using .loc[row_indexer,col_indexer] = value instead\n",
      "\n",
      "See the caveats in the documentation: http://pandas.pydata.org/pandas-docs/stable/indexing.html#indexing-view-versus-copy\n"
     ]
    },
    {
     "data": {
      "image/png": "[encoded data removed]",
      "text/plain": [
       "<Figure size 432x288 with 1 Axes>"
      ]
     },
     "metadata": {
      "needs_background": "light"
     },
     "output_type": "display_data"
    }
   ],
   "source": [
    "import pandas as pd\n",
    "import numpy as np\n",
    "from matplotlib import pyplot as plt\n",
    "from sklearn import linear_model \n",
    "from sklearn.model_selection import train_test_split\n",
    "from sklearn.neighbors import KNeighborsClassifier\n",
    "\n",
    "#Create your df here:\n",
    "df = pd.read_csv(\"profiles.csv\")\n",
    "df = df.dropna(subset=['body_type','height','drugs','smokes'])\n",
    "weight_mapping ={\"rather not say\": 0,\n",
    "                 \"used up\": 1,\n",
    "                 \"overweight\": 2,\n",
    "                 \"curvy\": 3,\n",
    "                 \"full figured\": 4,\n",
    "                 \"a little extra\": 5,\n",
    "                 \"skinny\": 6,\n",
    "                 \"thin\": 7,\n",
    "                 \"average\": 8,\n",
    "                 \"fit\": 9,\n",
    "                 \"athletic\": 10,\n",
    "                 \"jacked\": 11}\n",
    "drug_mapping = {\"never\": 0,\"sometimes\": 1,\"often\": 2}\n",
    "smoke_mapping = {\"no\": 0,\"trying to quit\": 1,\"when drinking\": 2,\"sometimes\": 3,\"yes\": 4}\n",
    "gender_mapping = {\"m\": 0,\n",
    "                 \"f\": 1}\n",
    "all_data=df[[\"height\",\"body_type\",\"drugs\",\"smokes\"]]\n",
    "all_data[\"body_type\"] = all_data.body_type.map(weight_mapping)\n",
    "all_data[\"drugs\"] = all_data.drugs.map(drug_mapping)\n",
    "all_data[\"smokes\"] = all_data.smokes.map(smoke_mapping)\n",
    "#print(all_data)\n",
    "labels=df.sex.map(gender_mapping)\n",
    "training_data,validation_data,training_labels,validation_labels=train_test_split(all_data,\n",
    "                                   labels,\n",
    "                                   test_size=.2,\n",
    "                                   random_state=100)\n",
    "k_list=range(1,101)\n",
    "accuracies=[]\n",
    "for k in range(1,101):\n",
    "    classifier=KNeighborsClassifier(n_neighbors=k)\n",
    "    classifier.fit(training_data,training_labels)\n",
    "    accuracies.append(classifier.score(validation_data,validation_labels))\n",
    "\n",
    "plt.plot(k_list,accuracies)\n",
    "plt.xlabel('Amount of Neighbors')\n",
    "plt.ylabel('Accuracy Score')\n",
    "plt.title('What K Value is Best?')\n",
    "plt.show()\n"
   ]
  },
  {
   "cell_type": "code",
   "execution_count": null,
   "metadata": {},
   "outputs": [],
   "source": []
  },
  {
   "cell_type": "code",
   "execution_count": null,
   "metadata": {},
   "outputs": [],
   "source": []
  }
 ],
 "metadata": {
  "kernelspec": {
   "display_name": "Python 3",
   "language": "python",
   "name": "python3"
  },
  "language_info": {
   "codemirror_mode": {
    "name": "ipython",
    "version": 3
   },
   "file_extension": ".py",
   "mimetype": "text/x-python",
   "name": "python",
   "nbconvert_exporter": "python",
   "pygments_lexer": "ipython3",
   "version": "3.7.1"
  }
 },
 "nbformat": 4,
 "nbformat_minor": 2
}
